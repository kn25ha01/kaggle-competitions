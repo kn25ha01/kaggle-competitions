{
 "metadata": {
  "language_info": {
   "codemirror_mode": {
    "name": "ipython",
    "version": 3
   },
   "file_extension": ".py",
   "mimetype": "text/x-python",
   "name": "python",
   "nbconvert_exporter": "python",
   "pygments_lexer": "ipython3",
   "version": "3.7.7-final"
  },
  "orig_nbformat": 2,
  "kernelspec": {
   "name": "python3",
   "display_name": "Python 3",
   "language": "python"
  }
 },
 "nbformat": 4,
 "nbformat_minor": 2,
 "cells": [
  {
   "cell_type": "code",
   "execution_count": 1,
   "metadata": {},
   "outputs": [],
   "source": [
    "import os\n",
    "from tqdm.notebook import tqdm\n",
    "from PIL import Image\n",
    "import pandas as pd"
   ]
  },
  {
   "cell_type": "code",
   "execution_count": 4,
   "metadata": {},
   "outputs": [
    {
     "output_type": "stream",
     "name": "stdout",
     "text": [
      ".\t\t\t       test_images\t     train_images_600x450\n..\t\t\t       test_tfrecords\t     train_images_800x600\nclass_balance.csv\t       train.csv\t     train_tfrecords\nlabel_num_to_disease_map.json  train_images_200x150\nsample_submission.csv\t       train_images_400x300\n"
     ]
    }
   ],
   "source": [
    "!ls -a ./input/cassava-leaf-disease-classification/"
   ]
  },
  {
   "cell_type": "code",
   "execution_count": 5,
   "metadata": {},
   "outputs": [],
   "source": [
    "#sizes = [(200, 150), (400, 300), (600, 450)]\n",
    "sizes = [(224, 224), (240, 240), (260, 260), (300, 300)]\n",
    "input_dir = './input/cassava-leaf-disease-classification/'\n",
    "image_dir = os.path.join(input_dir, 'train_images_800x600')\n",
    "train_csv = os.path.join(input_dir, 'train.csv')\n",
    "train_df = pd.read_csv(train_csv)"
   ]
  },
  {
   "cell_type": "code",
   "execution_count": 6,
   "metadata": {},
   "outputs": [],
   "source": [
    "out_dirs = []\n",
    "for size in sizes:\n",
    "    out_dir = os.path.join(input_dir, f'train_images_{size[0]}x{size[1]}')\n",
    "    if not os.path.isdir(out_dir):\n",
    "        os.mkdir(out_dir)\n",
    "    out_dirs.append(out_dir)"
   ]
  },
  {
   "cell_type": "code",
   "execution_count": 7,
   "metadata": {},
   "outputs": [
    {
     "output_type": "display_data",
     "data": {
      "text/plain": "HBox(children=(FloatProgress(value=0.0, max=21397.0), HTML(value='')))",
      "application/vnd.jupyter.widget-view+json": {
       "version_major": 2,
       "version_minor": 0,
       "model_id": "84ae704bd3a949fc839eae8c7f690011"
      }
     },
     "metadata": {}
    },
    {
     "output_type": "stream",
     "name": "stdout",
     "text": [
      "\n"
     ]
    }
   ],
   "source": [
    "\n",
    "for i in tqdm(range(len(train_df))):\n",
    "    image_id = train_df.iloc[i].image_id\n",
    "    image = Image.open(os.path.join(image_dir, image_id))\n",
    "    for j, size in enumerate(sizes):\n",
    "        resized_image = image.resize(size)\n",
    "        resized_image.save(os.path.join(out_dirs[j], image_id))"
   ]
  },
  {
   "cell_type": "code",
   "execution_count": 8,
   "metadata": {},
   "outputs": [
    {
     "output_type": "stream",
     "name": "stdout",
     "text": [
      "21397\n21397\n21397\n21397\n21397\n"
     ]
    }
   ],
   "source": [
    "for out_dir in out_dirs:\n",
    "    print(len(os.listdir(out_dir)))\n",
    "print(len(train_df))"
   ]
  },
  {
   "cell_type": "code",
   "execution_count": null,
   "metadata": {},
   "outputs": [],
   "source": []
  }
 ]
}