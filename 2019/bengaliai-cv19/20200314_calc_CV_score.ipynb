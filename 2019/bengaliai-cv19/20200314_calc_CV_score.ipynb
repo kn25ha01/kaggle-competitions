{
 "cells": [
  {
   "cell_type": "code",
   "execution_count": 1,
   "metadata": {},
   "outputs": [],
   "source": [
    "%reload_ext autoreload\n",
    "%autoreload 2\n",
    "%matplotlib inline\n",
    "\n",
    "import os\n",
    "import gc\n",
    "import numpy as np\n",
    "import pandas as pd\n",
    "import matplotlib.pyplot as plt\n",
    "from pathlib import Path\n",
    "from tqdm.notebook import tqdm\n",
    "import torch\n",
    "import warnings\n",
    "warnings.filterwarnings(\"ignore\")"
   ]
  },
  {
   "cell_type": "code",
   "execution_count": 2,
   "metadata": {},
   "outputs": [],
   "source": [
    "from torch.utils.data import Dataset\n",
    "\n",
    "class GraphemeDataset(Dataset):\n",
    "    def __init__(self, images, labels=None, transform=None):\n",
    "        self.images = images\n",
    "        self.labels = labels\n",
    "        self.transform = transform\n",
    "        self.train = labels is not None\n",
    "    \n",
    "    def __len__(self):\n",
    "        return len(self.images)\n",
    "    \n",
    "    def __getitem__(self, idx):\n",
    "        image = self.images[idx]\n",
    "        image = image / image.max()\n",
    "        if self.transform:\n",
    "            image = self.transform(image)\n",
    "        if self.train:\n",
    "            label = self.labels[idx]\n",
    "            return image, label[0], label[1], label[2]\n",
    "        else:\n",
    "            return image"
   ]
  },
  {
   "cell_type": "code",
   "execution_count": 3,
   "metadata": {},
   "outputs": [],
   "source": [
    "from sklearn.metrics import recall_score\n",
    "\n",
    "def get_recall(y_true, y_pred):\n",
    "    pred_labels = np.argmax(y_pred, axis=1)\n",
    "    res = recall_score(y_true, pred_labels, average='macro')\n",
    "    return res"
   ]
  },
  {
   "cell_type": "code",
   "execution_count": 4,
   "metadata": {},
   "outputs": [],
   "source": [
    "image_size = 128\n",
    "batch_size = 320\n",
    "\n",
    "in_dir = Path('../input/bengaliai-cv19')\n",
    "feather_dir = Path('../input/bengaliai-cv19-feather')\n",
    "out_dir = Path('')"
   ]
  },
  {
   "cell_type": "code",
   "execution_count": 6,
   "metadata": {},
   "outputs": [
    {
     "name": "stdout",
     "output_type": "stream",
     "text": [
      "(200840, 1, 128, 128)\n"
     ]
    }
   ],
   "source": [
    "from crop_resize import read_feathers\n",
    "\n",
    "filenames = [feather_dir/f'train_image_data_1x{image_size}x{image_size}_{i}.feather' for i in range(4)]\n",
    "images = read_feathers(filenames, image_size)\n",
    "print(images.shape)"
   ]
  },
  {
   "cell_type": "code",
   "execution_count": 7,
   "metadata": {},
   "outputs": [
    {
     "data": {
      "text/plain": [
       "[168, 11, 7]"
      ]
     },
     "execution_count": 7,
     "metadata": {},
     "output_type": "execute_result"
    }
   ],
   "source": [
    "train_label = pd.read_csv(in_dir/'train.csv')\n",
    "labels = train_label[['grapheme_root', 'vowel_diacritic', 'consonant_diacritic']].values\n",
    "nunique = list(train_label.nunique())[1:-1]\n",
    "nunique"
   ]
  },
  {
   "cell_type": "code",
   "execution_count": 8,
   "metadata": {},
   "outputs": [],
   "source": [
    "from my_efficientnet_pytorch import EfficientNet\n",
    "\n",
    "device = torch.device(\"cuda:0\" if torch.cuda.is_available() else \"cpu\")\n",
    "model_name = 'efficientnet-b3'\n",
    "model_dir = Path('./20200313_pretrained_models')\n",
    "pretrained_models = [model_dir/'base.pth',\n",
    "                     model_dir/'base_rotate.pth',\n",
    "                     model_dir/'base_mixup.pth',\n",
    "                     model_dir/'base_cutmix.pth',\n",
    "                     model_dir/'base_mixup_cutmix.pth']"
   ]
  },
  {
   "cell_type": "markdown",
   "metadata": {},
   "source": [
    "<a id=\"inference\"></a> \n",
    "# Inference"
   ]
  },
  {
   "cell_type": "code",
   "execution_count": 11,
   "metadata": {},
   "outputs": [
    {
     "name": "stdout",
     "output_type": "stream",
     "text": [
      "model :  20200313_pretrained_models\\base.pth\n",
      "Loaded pretrained weights for efficientnet-b3\n"
     ]
    },
    {
     "data": {
      "application/vnd.jupyter.widget-view+json": {
       "model_id": "32391e5ba5094063b2dcc6f352287137",
       "version_major": 2,
       "version_minor": 0
      },
      "text/plain": [
       "HBox(children=(FloatProgress(value=0.0, max=628.0), HTML(value='')))"
      ]
     },
     "metadata": {},
     "output_type": "display_data"
    },
    {
     "name": "stdout",
     "output_type": "stream",
     "text": [
      "\n",
      "recall_grapheme  : 1.0 * 1.0\n",
      "recall_vowel     : 0.5 * 0.9998864380053203\n",
      "recall_consonant : 0.5 * 0.9998603800152164\n",
      "--------------------------------------------------\n",
      "final recall     : 0.9999367045051342\n",
      "model :  20200313_pretrained_models\\base_rotate.pth\n",
      "Loaded pretrained weights for efficientnet-b3\n"
     ]
    },
    {
     "data": {
      "application/vnd.jupyter.widget-view+json": {
       "model_id": "0ebf1cd64d13455d92b70936656cd8f6",
       "version_major": 2,
       "version_minor": 0
      },
      "text/plain": [
       "HBox(children=(FloatProgress(value=0.0, max=628.0), HTML(value='')))"
      ]
     },
     "metadata": {},
     "output_type": "display_data"
    },
    {
     "name": "stdout",
     "output_type": "stream",
     "text": [
      "\n",
      "recall_grapheme  : 1.0 * 1.0\n",
      "recall_vowel     : 0.5 * 0.9999850200140087\n",
      "recall_consonant : 0.5 * 0.9999496886424513\n",
      "--------------------------------------------------\n",
      "final recall     : 0.9999836771641151\n",
      "model :  20200313_pretrained_models\\base_mixup.pth\n",
      "Loaded pretrained weights for efficientnet-b3\n"
     ]
    },
    {
     "data": {
      "application/vnd.jupyter.widget-view+json": {
       "model_id": "8fb1d47faad34bef8ff76fe152e8ee0c",
       "version_major": 2,
       "version_minor": 0
      },
      "text/plain": [
       "HBox(children=(FloatProgress(value=0.0, max=628.0), HTML(value='')))"
      ]
     },
     "metadata": {},
     "output_type": "display_data"
    },
    {
     "name": "stdout",
     "output_type": "stream",
     "text": [
      "\n",
      "recall_grapheme  : 1.0 * 0.998754734420601\n",
      "recall_vowel     : 0.5 * 0.9922038474730329\n",
      "recall_consonant : 0.5 * 0.9884337552157908\n",
      "--------------------------------------------------\n",
      "final recall     : 0.9945367678825064\n",
      "model :  20200313_pretrained_models\\base_cutmix.pth\n",
      "Loaded pretrained weights for efficientnet-b3\n"
     ]
    },
    {
     "data": {
      "application/vnd.jupyter.widget-view+json": {
       "model_id": "e71fc3d7d03549cb97c78a36a3e51faf",
       "version_major": 2,
       "version_minor": 0
      },
      "text/plain": [
       "HBox(children=(FloatProgress(value=0.0, max=628.0), HTML(value='')))"
      ]
     },
     "metadata": {},
     "output_type": "display_data"
    },
    {
     "name": "stdout",
     "output_type": "stream",
     "text": [
      "\n",
      "recall_grapheme  : 1.0 * 0.99788018094675\n",
      "recall_vowel     : 0.5 * 0.9901965756835683\n",
      "recall_consonant : 0.5 * 0.986073596462992\n",
      "--------------------------------------------------\n",
      "final recall     : 0.9930076335100151\n",
      "model :  20200313_pretrained_models\\base_mixup_cutmix.pth\n",
      "Loaded pretrained weights for efficientnet-b3\n"
     ]
    },
    {
     "data": {
      "application/vnd.jupyter.widget-view+json": {
       "model_id": "0dd8f48b5fbf4f5b9363489af7398f1a",
       "version_major": 2,
       "version_minor": 0
      },
      "text/plain": [
       "HBox(children=(FloatProgress(value=0.0, max=628.0), HTML(value='')))"
      ]
     },
     "metadata": {},
     "output_type": "display_data"
    },
    {
     "name": "stdout",
     "output_type": "stream",
     "text": [
      "\n",
      "recall_grapheme  : 1.0 * 0.9787705435163141\n",
      "recall_vowel     : 0.5 * 0.9839572128474301\n",
      "recall_consonant : 0.5 * 0.9749104261263476\n",
      "--------------------------------------------------\n",
      "final recall     : 0.9791021815016014\n"
     ]
    }
   ],
   "source": [
    "test_dataset = GraphemeDataset(images)\n",
    "test_loader = torch.utils.data.DataLoader(test_dataset, batch_size=batch_size, shuffle=False)\n",
    "\n",
    "for pre_model in pretrained_models:\n",
    "    print('model : ', str(pre_model))\n",
    "    model = EfficientNet.from_my_pretrained(model_name, pre_model, in_channels=1).to(device)\n",
    "    model.eval()\n",
    "\n",
    "    predictions = np.zeros((len(test_dataset), sum(nunique)), dtype = 'float32')\n",
    "\n",
    "    cnt = 0\n",
    "\n",
    "    with torch.no_grad():\n",
    "        for idx, inputs in tqdm(enumerate(test_loader), total=len(test_loader)):\n",
    "            inputs = inputs.float().to(device)\n",
    "            outputs1, outputs2, outputs3 = model(inputs)\n",
    "            predictions[cnt:cnt + inputs.size()[0], 0:nunique[0]] = outputs1.cpu().numpy()\n",
    "            predictions[cnt:cnt + inputs.size()[0], nunique[0]:sum(nunique[:2])] = outputs2.cpu().numpy()\n",
    "            predictions[cnt:cnt + inputs.size()[0], sum(nunique[:2]):sum(nunique[:3])] = outputs3.cpu().numpy()\n",
    "            cnt += inputs.size()[0]\n",
    "            \n",
    "    predictions = np.split(predictions, np.cumsum(nunique), axis=1)\n",
    "    recall1 = get_recall(labels[:, 0], predictions[0])\n",
    "    recall2 = get_recall(labels[:, 1], predictions[1])\n",
    "    recall3 = get_recall(labels[:, 2], predictions[2])\n",
    "    recall = np.average([recall1, recall2, recall3], weights=[2, 1, 1])\n",
    "    \n",
    "    del model\n",
    "    del predictions\n",
    "    torch.cuda.empty_cache()\n",
    "    gc.collect()\n",
    "\n",
    "    print(f'recall_grapheme  : 1.0 * {recall1}')\n",
    "    print(f'recall_vowel     : 0.5 * {recall2}')\n",
    "    print(f'recall_consonant : 0.5 * {recall3}')\n",
    "    print('-'*50)\n",
    "    print(f'final recall     : {recall}')"
   ]
  },
  {
   "cell_type": "code",
   "execution_count": null,
   "metadata": {},
   "outputs": [],
   "source": []
  }
 ],
 "metadata": {
  "kernelspec": {
   "display_name": "Python 3",
   "language": "python",
   "name": "python3"
  },
  "language_info": {
   "codemirror_mode": {
    "name": "ipython",
    "version": 3
   },
   "file_extension": ".py",
   "mimetype": "text/x-python",
   "name": "python",
   "nbconvert_exporter": "python",
   "pygments_lexer": "ipython3",
   "version": "3.7.6"
  }
 },
 "nbformat": 4,
 "nbformat_minor": 4
}
